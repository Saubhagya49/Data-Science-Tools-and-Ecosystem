{
 "cells": [
  {
   "cell_type": "markdown",
   "id": "67f05d8f-9b90-48d0-8d26-b96f8a54a00c",
   "metadata": {},
   "source": [
    "<h1>Data Science Tools and Ecosystem</h1>"
   ]
  },
  {
   "cell_type": "markdown",
   "id": "8e65c2a3-f3ee-430b-a674-d8e9dc128870",
   "metadata": {},
   "source": [
    "In this notebook, Data Science Tools and Ecosystem are summarized."
   ]
  },
  {
   "cell_type": "markdown",
   "id": "50ca2ccb-4e44-49bd-a3af-fe227a22e7e1",
   "metadata": {},
   "source": [
    "Some of the popular languages that Data Scientists use are:\n",
    "1. PYTHON\n",
    "2. R\n",
    "3. SQL"
   ]
  },
  {
   "cell_type": "markdown",
   "id": "d00efbb3-b507-44aa-8eaa-2b5a24c22fe4",
   "metadata": {},
   "source": [
    "Some of the commonly used libraries used by Data Scientists include:\n",
    "1. TENSORFLOW\n",
    "2. PANDAS\n",
    "3. NUMPY"
   ]
  },
  {
   "cell_type": "markdown",
   "id": "f3198f11-4aac-452a-ac13-3b3960966df5",
   "metadata": {},
   "source": [
    "|Data Science Tools|\n",
    "|------------------|\n",
    "|Jupyter Notebook|\n",
    "|RStudio|\n",
    "|Visual Studio Code|"
   ]
  },
  {
   "cell_type": "markdown",
   "id": "375cbe7c-9e4f-4b61-89a1-a1b017bb0909",
   "metadata": {},
   "source": [
    "### Below are a few examples of evaluating arithmetic expressions in Python"
   ]
  },
  {
   "cell_type": "code",
   "execution_count": 2,
   "id": "217e6872-2d23-4f94-a269-6fcfda147567",
   "metadata": {},
   "outputs": [
    {
     "name": "stdout",
     "output_type": "stream",
     "text": [
      "17\n"
     ]
    }
   ],
   "source": [
    "#This a simple arithmetic expression to mutiply then add integers\n",
    "print((3*4)+5)"
   ]
  },
  {
   "cell_type": "code",
   "execution_count": 3,
   "id": "9b67fb94-703c-49e9-bd06-b289599b7f28",
   "metadata": {},
   "outputs": [
    {
     "name": "stdout",
     "output_type": "stream",
     "text": [
      "3.3333333333333335\n"
     ]
    }
   ],
   "source": [
    "#This will convert 200 minutes to hours by diving by 60\n",
    "print(200/60)"
   ]
  },
  {
   "cell_type": "markdown",
   "id": "b7f10baa-0b4c-4ea6-adb7-3a1abb542f29",
   "metadata": {},
   "source": [
    "<b>Objectives:</b>\n",
    "- List popular languages for Data Science\n",
    "- Some of the commonly used libraries used by Data Scientists\n",
    "- few examples of evaluating arithmetic expressions in Python"
   ]
  },
  {
   "cell_type": "markdown",
   "id": "7c1727ac-3c22-479e-9049-d8a3cca51fad",
   "metadata": {},
   "source": [
    "## Author\n",
    "Saubhagya Srivastava"
   ]
  }
 ],
 "metadata": {
  "kernelspec": {
   "display_name": "Python 3 (ipykernel)",
   "language": "python",
   "name": "python3"
  },
  "language_info": {
   "codemirror_mode": {
    "name": "ipython",
    "version": 3
   },
   "file_extension": ".py",
   "mimetype": "text/x-python",
   "name": "python",
   "nbconvert_exporter": "python",
   "pygments_lexer": "ipython3",
   "version": "3.11.9"
  }
 },
 "nbformat": 4,
 "nbformat_minor": 5
}
